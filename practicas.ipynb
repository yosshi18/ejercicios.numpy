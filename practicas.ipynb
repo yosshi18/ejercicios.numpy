{
  "nbformat": 4,
  "nbformat_minor": 0,
  "metadata": {
    "colab": {
      "provenance": [],
      "toc_visible": true,
      "authorship_tag": "ABX9TyMtXKZZ+vWsYhQMmjM19Dih",
      "include_colab_link": true
    },
    "kernelspec": {
      "name": "python3",
      "display_name": "Python 3"
    },
    "language_info": {
      "name": "python"
    }
  },
  "cells": [
    {
      "cell_type": "markdown",
      "metadata": {
        "id": "view-in-github",
        "colab_type": "text"
      },
      "source": [
        "<a href=\"https://colab.research.google.com/github/yosshi18/ejercicios.numpy/blob/main/practicas.ipynb\" target=\"_parent\"><img src=\"https://colab.research.google.com/assets/colab-badge.svg\" alt=\"Open In Colab\"/></a>"
      ]
    },
    {
      "cell_type": "code",
      "execution_count": null,
      "metadata": {
        "id": "VNndoeNEJAsT"
      },
      "outputs": [],
      "source": []
    },
    {
      "cell_type": "markdown",
      "source": [
        "EJERCICIOS 1-13\n"
      ],
      "metadata": {
        "id": "Ltz6NHNOJDJJ"
      }
    },
    {
      "cell_type": "markdown",
      "source": [
        "EJERCICIO 1"
      ],
      "metadata": {
        "id": "saGEvk4FJIio"
      }
    },
    {
      "cell_type": "code",
      "source": [
        "\n",
        "asignaturas = [\"Matemáticas\", \"Física\", \"Química\", \"Historia\", \"Lengua\"]\n",
        "print(asignaturas)\n",
        "print()"
      ],
      "metadata": {
        "colab": {
          "base_uri": "https://localhost:8080/"
        },
        "id": "lAy-rgzjJKvw",
        "outputId": "2a79151b-8996-443a-c05c-1a714f235242"
      },
      "execution_count": null,
      "outputs": [
        {
          "output_type": "stream",
          "name": "stdout",
          "text": [
            "['Matemáticas', 'Física', 'Química', 'Historia', 'Lengua']\n",
            "\n"
          ]
        }
      ]
    },
    {
      "cell_type": "markdown",
      "source": [
        "EJERCICIO2"
      ],
      "metadata": {
        "id": "ZC_szMBNJo3J"
      }
    },
    {
      "cell_type": "code",
      "source": [
        "\n",
        "asignaturas = [\"Matemáticas\", \"Física\", \"Química\", \"Historia\", \"Lengua\"]\n",
        "for i in range(len(asignaturas)):\n",
        "    print(f\"Yo estudio {asignaturas[i]}\")\n",
        "print()"
      ],
      "metadata": {
        "colab": {
          "base_uri": "https://localhost:8080/"
        },
        "id": "AiKAe7HxJqvf",
        "outputId": "61bbd314-b54a-4e33-da41-7f89e0b12bee"
      },
      "execution_count": null,
      "outputs": [
        {
          "output_type": "stream",
          "name": "stdout",
          "text": [
            "Yo estudio Matemáticas\n",
            "Yo estudio Física\n",
            "Yo estudio Química\n",
            "Yo estudio Historia\n",
            "Yo estudio Lengua\n",
            "\n"
          ]
        }
      ]
    },
    {
      "cell_type": "markdown",
      "source": [
        "EJERCICIO3"
      ],
      "metadata": {
        "id": "hdX1tlgcJzUQ"
      }
    },
    {
      "cell_type": "code",
      "source": [
        "asignaturas = [\"Matemáticas\", \"Física\", \"Química\", \"Historia\", \"Lengua\"]\n",
        "notas = []\n",
        "for i in range(len(asignaturas)):\n",
        "    nota = input(f\"¿Qué nota has sacado en {asignaturas[i]}? \")\n",
        "    notas.append(nota)\n",
        "\n",
        "for i in range(len(asignaturas)):\n",
        "    print(f\"En {asignaturas[i]} has sacado {notas[i]}\")\n",
        "print()"
      ],
      "metadata": {
        "colab": {
          "base_uri": "https://localhost:8080/"
        },
        "id": "fqMEqqCGJ0_o",
        "outputId": "61d284b9-87f8-479b-f6ce-f621e7fd4b40"
      },
      "execution_count": null,
      "outputs": [
        {
          "output_type": "stream",
          "name": "stdout",
          "text": [
            "¿Qué nota has sacado en Matemáticas? 10\n",
            "¿Qué nota has sacado en Física? 18\n",
            "¿Qué nota has sacado en Química? 15\n",
            "¿Qué nota has sacado en Historia? 17\n",
            "¿Qué nota has sacado en Lengua? 20\n",
            "En Matemáticas has sacado 10\n",
            "En Física has sacado 18\n",
            "En Química has sacado 15\n",
            "En Historia has sacado 17\n",
            "En Lengua has sacado 20\n",
            "\n"
          ]
        }
      ]
    },
    {
      "cell_type": "markdown",
      "source": [
        "EJERCICIO 4\n"
      ],
      "metadata": {
        "id": "q07_0dcXKGvZ"
      }
    },
    {
      "cell_type": "code",
      "source": [
        "numeros = []\n",
        "for i in range(6):\n",
        "    numero = int(input(f\"Introduce el número {i+1} de la lotería primitiva: \"))\n",
        "    numeros.append(numero)\n",
        "\n",
        "# Ordenar usando burbuja simple\n",
        "for i in range(len(numeros)):\n",
        "    for j in range(0, len(numeros) - i - 1):\n",
        "        if numeros[j] > numeros[j + 1]:\n",
        "            numeros[j], numeros[j + 1] = numeros[j + 1], numeros[j]\n",
        "\n",
        "print(\"Números ganadores ordenados:\", numeros)\n",
        "print()4"
      ],
      "metadata": {
        "colab": {
          "base_uri": "https://localhost:8080/"
        },
        "id": "NMlyoitVKI5I",
        "outputId": "3b9a3ed3-c6a3-48e5-833c-b64e26193214"
      },
      "execution_count": null,
      "outputs": [
        {
          "output_type": "stream",
          "name": "stdout",
          "text": [
            "Introduce el número 1 de la lotería primitiva: 3\n",
            "Introduce el número 2 de la lotería primitiva: 6\n",
            "Introduce el número 3 de la lotería primitiva: 3\n",
            "Introduce el número 4 de la lotería primitiva: 2\n",
            "Introduce el número 5 de la lotería primitiva: 3\n",
            "Introduce el número 6 de la lotería primitiva: 5\n",
            "Números ganadores ordenados: [2, 3, 3, 3, 5, 6]\n",
            "\n"
          ]
        }
      ]
    },
    {
      "cell_type": "markdown",
      "source": [
        "EJERCICIOS 5"
      ],
      "metadata": {
        "id": "V09VONL2KXUm"
      }
    },
    {
      "cell_type": "code",
      "source": [
        "numeros = []\n",
        "for i in range(1, 11):\n",
        "    numeros.append(i)\n",
        "\n",
        "numeros_inverso = []\n",
        "for i in range(len(numeros) - 1, -1, -1):\n",
        "    numeros_inverso.append(numeros[i])\n",
        "\n",
        "resultado = \"\"\n",
        "for i in range(len(numeros_inverso)):\n",
        "    if i == len(numeros_inverso) - 1:\n",
        "        resultado += str(numeros_inverso[i])\n",
        "    else:\n",
        "        resultado += str(numeros_inverso[i]) + \",\"\n",
        "\n",
        "print(resultado)\n",
        "print()\n"
      ],
      "metadata": {
        "colab": {
          "base_uri": "https://localhost:8080/"
        },
        "id": "4DmttmnOKs2_",
        "outputId": "d6881595-aedf-4639-e383-5248b12c1dc3"
      },
      "execution_count": null,
      "outputs": [
        {
          "output_type": "stream",
          "name": "stdout",
          "text": [
            "10,9,8,7,6,5,4,3,2,1\n",
            "\n"
          ]
        }
      ]
    },
    {
      "cell_type": "markdown",
      "source": [
        "EJERCICIOS 6"
      ],
      "metadata": {
        "id": "6sI_7S-9LzGa"
      }
    },
    {
      "cell_type": "code",
      "source": [
        "asignaturas = [\"Matemáticas\", \"Física\", \"Química\", \"Historia\", \"Lengua\"]\n",
        "notas = []\n",
        "repetir = []\n",
        "\n",
        "for i in range(len(asignaturas)):\n",
        "    nota = float(input(f\"¿Qué nota has sacado en {asignaturas[i]}? \"))\n",
        "    notas.append(nota)\n",
        "\n",
        "for i in range(len(asignaturas)):\n",
        "    if notas[i] < 5:\n",
        "        repetir.append(asignaturas[i])\n",
        "\n",
        "print(\"Asignaturas que tienes que repetir:\", repetir)\n",
        "print()\n"
      ],
      "metadata": {
        "colab": {
          "base_uri": "https://localhost:8080/"
        },
        "id": "HvLo9sM4L144",
        "outputId": "0717dc32-5b9d-429b-a195-a69766772e73"
      },
      "execution_count": null,
      "outputs": [
        {
          "output_type": "stream",
          "name": "stdout",
          "text": [
            "¿Qué nota has sacado en Matemáticas? 4\n",
            "¿Qué nota has sacado en Física? 5\n",
            "¿Qué nota has sacado en Química? 5\n",
            "¿Qué nota has sacado en Historia? 8\n",
            "¿Qué nota has sacado en Lengua? 20\n",
            "Asignaturas que tienes que repetir: ['Matemáticas']\n",
            "\n"
          ]
        }
      ]
    },
    {
      "cell_type": "markdown",
      "source": [
        "EJERCICIO 7"
      ],
      "metadata": {
        "id": "Db7SCXFRNzI2"
      }
    },
    {
      "cell_type": "code",
      "source": [
        "abecedario = ['a', 'b', 'c', 'd', 'e', 'f', 'g', 'h', 'i', 'j', 'k', 'l', 'm',\n",
        "              'n', 'o', 'p', 'q', 'r', 's', 't', 'u', 'v', 'w', 'x', 'y', 'z']\n",
        "resultado = []\n",
        "for i in range (len(abecedario)):\n",
        "  if (i+1) % 3 != 0:\n",
        "    resultado.append(abecedario[i])\n",
        "print(\"Abecedario sin las letras en posiciones multiplos de 3 :\", resultado)\n",
        "print()"
      ],
      "metadata": {
        "id": "wXTyktqTOE7I",
        "colab": {
          "base_uri": "https://localhost:8080/"
        },
        "outputId": "619d1ec1-9e41-4001-86c3-7a3b303ae963"
      },
      "execution_count": null,
      "outputs": [
        {
          "output_type": "stream",
          "name": "stdout",
          "text": [
            "Abecedario sin las letras en posiciones multiplos de 3 : ['a', 'b', 'd', 'e', 'g', 'h', 'j', 'k', 'm', 'n', 'p', 'q', 's', 't', 'v', 'w', 'y', 'z']\n",
            "\n"
          ]
        }
      ]
    },
    {
      "cell_type": "markdown",
      "source": [
        "EJERCICIO 8"
      ],
      "metadata": {
        "id": "ihgS229aP13i"
      }
    },
    {
      "cell_type": "code",
      "source": [
        "\n",
        "\n",
        "palabra = input(\"Introduce una palabra: \")\n",
        "if palabra == palabra[::-1]:\n",
        "  print(\"La palabra es un palíndromo\")\n",
        "else:\n",
        "  print(\"La palabra no es un palíndromo\")\n",
        "print()"
      ],
      "metadata": {
        "colab": {
          "base_uri": "https://localhost:8080/"
        },
        "id": "2FvMdb-jP35P",
        "outputId": "6c7f826c-f4b3-4b85-b0ad-9eb698f28891"
      },
      "execution_count": null,
      "outputs": [
        {
          "output_type": "stream",
          "name": "stdout",
          "text": [
            "Introduce una palabra: HOLAS\n",
            "La palabra no es un palíndromo\n",
            "\n"
          ]
        }
      ]
    },
    {
      "cell_type": "markdown",
      "source": [
        "EJERCICIO 9"
      ],
      "metadata": {
        "id": "2_y25sXMQIkg"
      }
    },
    {
      "cell_type": "code",
      "source": [
        "palabra = input(\"Introduce una palabra: \")\n",
        "contador_vocales = {\n",
        "    'a': 0,\n",
        "    'e': 0,\n",
        "    'i': 0,\n",
        "    'o': 0,\n",
        "    'u': 0\n",
        "}\n",
        "\n",
        "for letra in palabra.lower():\n",
        "    if letra in contador_vocales:\n",
        "        contador_vocales[letra] += 1\n",
        "\n",
        "for vocal, cantidad in contador_vocales.items():\n",
        "    print(f\"La vocal '{vocal}' aparece {cantidad} veces.\")\n",
        "print()"
      ],
      "metadata": {
        "colab": {
          "base_uri": "https://localhost:8080/"
        },
        "id": "Pm3mCCoXQLFA",
        "outputId": "fe091220-cc85-4d53-a1be-76ae550f82b4"
      },
      "execution_count": null,
      "outputs": [
        {
          "output_type": "stream",
          "name": "stdout",
          "text": [
            "Introduce una palabra: preferentemente\n",
            "La vocal 'a' aparece 0 veces.\n",
            "La vocal 'e' aparece 6 veces.\n",
            "La vocal 'i' aparece 0 veces.\n",
            "La vocal 'o' aparece 0 veces.\n",
            "La vocal 'u' aparece 0 veces.\n",
            "\n"
          ]
        }
      ]
    },
    {
      "cell_type": "markdown",
      "source": [
        "EJERCICIO 10"
      ],
      "metadata": {
        "id": "U5zb0sMxQskw"
      }
    },
    {
      "cell_type": "code",
      "source": [
        "precios = [50, 75, 46, 22, 80, 65, 8]\n",
        "\n",
        "precio_menor = min(precios)\n",
        "precio_mayor = max(precios)\n",
        "\n",
        "print(f\"El menor precio es: {precio_menor}\")\n",
        "print(f\"El mayor precio es: {precio_mayor}\")\n",
        "print()"
      ],
      "metadata": {
        "colab": {
          "base_uri": "https://localhost:8080/"
        },
        "id": "L9AI2SZTQvSP",
        "outputId": "bf4dbe28-0f91-4a45-f2ea-56ea132c9df8"
      },
      "execution_count": null,
      "outputs": [
        {
          "output_type": "stream",
          "name": "stdout",
          "text": [
            "El menor precio es: 8\n",
            "El mayor precio es: 80\n",
            "\n"
          ]
        }
      ]
    },
    {
      "cell_type": "markdown",
      "source": [
        "EJERCICIO 11"
      ],
      "metadata": {
        "id": "GTJQyMtoQvv4"
      }
    },
    {
      "cell_type": "code",
      "source": [
        "\n",
        "vector1 = [1, 2, 3]\n",
        "vector2 = [-1, 0, 2]\n",
        "\n",
        "producto_escalar = 0\n",
        "for i in range(len(vector1)):\n",
        "  producto_escalar += vector1[i] * vector2[i]\n",
        "\n",
        "print(f\"El producto escalar de {vector1} y {vector2} es: {producto_escalar}\")\n",
        "print()"
      ],
      "metadata": {
        "colab": {
          "base_uri": "https://localhost:8080/"
        },
        "id": "tQgExL0aQxp3",
        "outputId": "26ac5a2a-e4e3-46b6-f0dd-28f3b0b782b3"
      },
      "execution_count": null,
      "outputs": [
        {
          "output_type": "stream",
          "name": "stdout",
          "text": [
            "El producto escalar de [1, 2, 3] y [-1, 0, 2] es: 5\n",
            "\n"
          ]
        }
      ]
    },
    {
      "cell_type": "markdown",
      "source": [
        "EJERCICIO 12\n"
      ],
      "metadata": {
        "id": "F6p1S8oPRK1o"
      }
    },
    {
      "cell_type": "code",
      "source": [
        "matriz1 = [[1, 2], [3, 4]]\n",
        "matriz2 = [[5, 6], [7, 8]]\n",
        "\n",
        "resultado = [[0, 0], [0, 0]]# Resultado será una matriz 2x2\n",
        "\n",
        "for i in range(len(matriz1)):\n",
        "    for j in range(len(matriz2[0])):\n",
        "        for k in range(len(matriz2)):\n",
        "            resultado[i][j] += matriz1[i][k] * matriz2[k][j]\n",
        "\n",
        "print(\"Matriz 1:\", matriz1)\n",
        "print(\"Matriz 2:\", matriz2)\n",
        "print(\"Producto de matrices:\", resultado)\n",
        "print()\n"
      ],
      "metadata": {
        "colab": {
          "base_uri": "https://localhost:8080/"
        },
        "id": "vhdev1DBRNV4",
        "outputId": "53b34879-12ae-43c7-d58b-6090c5a2f1d0"
      },
      "execution_count": null,
      "outputs": [
        {
          "output_type": "stream",
          "name": "stdout",
          "text": [
            "Matriz 1: [[1, 2], [3, 4]]\n",
            "Matriz 2: [[5, 6], [7, 8]]\n",
            "Producto de matrices: [[19, 22], [43, 50]]\n",
            "\n"
          ]
        }
      ]
    },
    {
      "cell_type": "markdown",
      "source": [
        "EJERCICIO 13"
      ],
      "metadata": {
        "id": "Td6Kuac_RiAw"
      }
    },
    {
      "cell_type": "code",
      "source": [
        "numeros_str = input(\"Introduce una muestra de números separados por comas: \")\n",
        "numeros_split = numeros_str.split(\",\")\n",
        "numeros = []\n",
        "\n",
        "for i in range(len(numeros_split)):\n",
        "    numeros.append(float(numeros_split[i].strip()))\n",
        "suma = 0# Calcular media\n",
        "for i in range(len(numeros)):\n",
        "    suma += numeros[i]\n",
        "media = suma / len(numeros)\n",
        "\n",
        "suma_cuadrados = 0# Calcular desviación típica\n",
        "for i in range(len(numeros)):\n",
        "    suma_cuadrados += (numeros[i] - media) ** 2\n",
        "\n",
        "desviacion_tipica = (suma_cuadrados / len(numeros)) ** 0.5\n",
        "\n",
        "print(f\"Media: {media}\")\n",
        "print(f\"Desviación típica: {desviacion_tipica}\")"
      ],
      "metadata": {
        "colab": {
          "base_uri": "https://localhost:8080/"
        },
        "id": "E-UYQ4RSRjvA",
        "outputId": "1d97911f-d08e-4bc1-a83d-36a559d7add5"
      },
      "execution_count": null,
      "outputs": [
        {
          "output_type": "stream",
          "name": "stdout",
          "text": [
            "Introduce una muestra de números separados por comas: 12,2\n",
            "Media: 7.0\n",
            "Desviación típica: 5.0\n"
          ]
        }
      ]
    }
  ]
}