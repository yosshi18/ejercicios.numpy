{
  "nbformat": 4,
  "nbformat_minor": 0,
  "metadata": {
    "colab": {
      "provenance": [],
      "authorship_tag": "ABX9TyN9Z1gk2pDPAzOnxSA3kg2S",
      "include_colab_link": true
    },
    "kernelspec": {
      "name": "python3",
      "display_name": "Python 3"
    },
    "language_info": {
      "name": "python"
    }
  },
  "cells": [
    {
      "cell_type": "markdown",
      "metadata": {
        "id": "view-in-github",
        "colab_type": "text"
      },
      "source": [
        "<a href=\"https://colab.research.google.com/github/yosshi18/ejercicios.numpy/blob/main/mates.ipynb\" target=\"_parent\"><img src=\"https://colab.research.google.com/assets/colab-badge.svg\" alt=\"Open In Colab\"/></a>"
      ]
    },
    {
      "cell_type": "code",
      "execution_count": 1,
      "metadata": {
        "colab": {
          "base_uri": "https://localhost:8080/"
        },
        "id": "a8I47zxZiXle",
        "outputId": "b19b752b-6f0b-44c6-9d73-116f521401a0"
      },
      "outputs": [
        {
          "output_type": "execute_result",
          "data": {
            "text/plain": [
              "numpy.int64"
            ]
          },
          "metadata": {},
          "execution_count": 1
        }
      ],
      "source": [
        "import numpy as np\n",
        "\n",
        "np.int64"
      ]
    },
    {
      "cell_type": "code",
      "source": [
        "#decimales flotantes\n",
        "np.float64"
      ],
      "metadata": {
        "colab": {
          "base_uri": "https://localhost:8080/"
        },
        "id": "39rA4U8tilpC",
        "outputId": "4035a635-aa61-4506-83ac-0674f7592dbf"
      },
      "execution_count": 2,
      "outputs": [
        {
          "output_type": "execute_result",
          "data": {
            "text/plain": [
              "numpy.float64"
            ]
          },
          "metadata": {},
          "execution_count": 2
        }
      ]
    },
    {
      "cell_type": "code",
      "source": [
        "#numeros complejos cariables compleja\n",
        "np.complex64"
      ],
      "metadata": {
        "colab": {
          "base_uri": "https://localhost:8080/"
        },
        "id": "utSpvhSKirgS",
        "outputId": "2baab6e6-0e55-479c-9bd7-b700318f6d37"
      },
      "execution_count": 3,
      "outputs": [
        {
          "output_type": "execute_result",
          "data": {
            "text/plain": [
              "numpy.complex64"
            ]
          },
          "metadata": {},
          "execution_count": 3
        }
      ]
    },
    {
      "cell_type": "code",
      "source": [
        "#boleanos\n",
        "np.bool_"
      ],
      "metadata": {
        "colab": {
          "base_uri": "https://localhost:8080/"
        },
        "id": "73rZRM6Li2IY",
        "outputId": "0556afab-72a3-4edd-e90b-89b2579d8279"
      },
      "execution_count": 8,
      "outputs": [
        {
          "output_type": "execute_result",
          "data": {
            "text/plain": [
              "numpy.bool"
            ]
          },
          "metadata": {},
          "execution_count": 8
        }
      ]
    },
    {
      "cell_type": "code",
      "source": [
        "#objetos\n",
        "np.object_"
      ],
      "metadata": {
        "id": "mlSDPBnJlcbK"
      },
      "execution_count": null,
      "outputs": []
    },
    {
      "cell_type": "code",
      "source": [
        "#cadena de texto\n",
        "np.strings"
      ],
      "metadata": {
        "colab": {
          "base_uri": "https://localhost:8080/"
        },
        "id": "EWlRJwIQlkYR",
        "outputId": "472f984a-c166-4b2b-cfe0-6c9dd013eed2"
      },
      "execution_count": 10,
      "outputs": [
        {
          "output_type": "execute_result",
          "data": {
            "text/plain": [
              "<module 'numpy.strings' from '/usr/local/lib/python3.11/dist-packages/numpy/strings/__init__.py'>"
            ]
          },
          "metadata": {},
          "execution_count": 10
        }
      ]
    },
    {
      "cell_type": "code",
      "source": [
        "#FORMATOS Bytes\n",
        "np.bytes_"
      ],
      "metadata": {
        "colab": {
          "base_uri": "https://localhost:8080/"
        },
        "id": "MWK1Hym0mGjD",
        "outputId": "3c0bebba-4317-4f16-c851-d1ff23e56d9a"
      },
      "execution_count": 11,
      "outputs": [
        {
          "output_type": "execute_result",
          "data": {
            "text/plain": [
              "numpy.bytes_"
            ]
          },
          "metadata": {},
          "execution_count": 11
        }
      ]
    },
    {
      "cell_type": "markdown",
      "source": [
        "PROPIEDADES Y CARACTERISTICAS  DE ENTORNOS"
      ],
      "metadata": {
        "id": "Ut7vxSAomxbo"
      }
    },
    {
      "cell_type": "code",
      "source": [
        "array_3d=np.array([(10,20,30),(40,50,60),(30,70,80)],dtype=float)\n",
        "array_3d\n",
        "\n"
      ],
      "metadata": {
        "colab": {
          "base_uri": "https://localhost:8080/"
        },
        "id": "4b-VSjvLm4ua",
        "outputId": "4d070511-696d-4213-c25d-1d18aab8e3d9"
      },
      "execution_count": 13,
      "outputs": [
        {
          "output_type": "execute_result",
          "data": {
            "text/plain": [
              "array([[10., 20., 30.],\n",
              "       [40., 50., 60.],\n",
              "       [30., 70., 80.]])"
            ]
          },
          "metadata": {},
          "execution_count": 13
        }
      ]
    },
    {
      "cell_type": "code",
      "source": [
        "array_3d.shape"
      ],
      "metadata": {
        "colab": {
          "base_uri": "https://localhost:8080/"
        },
        "id": "um8BbLAPncoL",
        "outputId": "a6751b5b-e6bc-4073-8b18-2e9767613426"
      },
      "execution_count": 14,
      "outputs": [
        {
          "output_type": "execute_result",
          "data": {
            "text/plain": [
              "(3, 3)"
            ]
          },
          "metadata": {},
          "execution_count": 14
        }
      ]
    },
    {
      "cell_type": "code",
      "source": [
        "#longuitud de datos\n",
        "len(array_3d)"
      ],
      "metadata": {
        "colab": {
          "base_uri": "https://localhost:8080/"
        },
        "id": "R7TPziC6nk6x",
        "outputId": "f6cbd6c9-4910-472b-cf04-92a33c6b4424"
      },
      "execution_count": 19,
      "outputs": [
        {
          "output_type": "execute_result",
          "data": {
            "text/plain": [
              "3"
            ]
          },
          "metadata": {},
          "execution_count": 19
        }
      ]
    },
    {
      "cell_type": "code",
      "source": [
        "#numero de dimensiones\n",
        "array_3d.ndim"
      ],
      "metadata": {
        "colab": {
          "base_uri": "https://localhost:8080/"
        },
        "id": "9WOxl5SaoKOX",
        "outputId": "ebc67d98-0c99-4e7e-c4f1-20bd50935d04"
      },
      "execution_count": 20,
      "outputs": [
        {
          "output_type": "execute_result",
          "data": {
            "text/plain": [
              "2"
            ]
          },
          "metadata": {},
          "execution_count": 20
        }
      ]
    },
    {
      "cell_type": "code",
      "source": [
        "array_5d=np.array([(10,20,30),(40,50,60),(30,70,80),(89,52,46),(78,12,36)],dtype=float)\n",
        "array_5d"
      ],
      "metadata": {
        "colab": {
          "base_uri": "https://localhost:8080/"
        },
        "id": "zyCSO8jXpV5K",
        "outputId": "eaa24363-65a9-4f24-ff42-051ed8bd68c8"
      },
      "execution_count": 21,
      "outputs": [
        {
          "output_type": "execute_result",
          "data": {
            "text/plain": [
              "array([[10., 20., 30.],\n",
              "       [40., 50., 60.],\n",
              "       [30., 70., 80.],\n",
              "       [89., 52., 46.],\n",
              "       [78., 12., 36.]])"
            ]
          },
          "metadata": {},
          "execution_count": 21
        }
      ]
    },
    {
      "cell_type": "code",
      "source": [
        "array_5d=np.array([(10,20,30),(40,50,60),(30,70,80),(89,52,46),(78,12,36)],dtype=float)\n",
        "array_5d"
      ],
      "metadata": {
        "colab": {
          "base_uri": "https://localhost:8080/"
        },
        "id": "4GhlhwlhqgNQ",
        "outputId": "0d97e609-4e4c-4181-fdeb-c5a6ba02b27a"
      },
      "execution_count": 25,
      "outputs": [
        {
          "output_type": "execute_result",
          "data": {
            "text/plain": [
              "array([[10., 20., 30.],\n",
              "       [40., 50., 60.],\n",
              "       [30., 70., 80.],\n",
              "       [89., 52., 46.],\n",
              "       [78., 12., 36.]])"
            ]
          },
          "metadata": {},
          "execution_count": 25
        }
      ]
    },
    {
      "cell_type": "code",
      "metadata": {
        "colab": {
          "base_uri": "https://localhost:8080/",
          "height": 520
        },
        "id": "03c3ebc0",
        "outputId": "8cfc3741-0156-4642-d88b-48c1ab7fcbbf"
      },
      "source": [
        "import numpy as np\n",
        "\n",
        "\n",
        "arreglo_5d = np.zeros((2, 2, 2, 2, 2))\n",
        "\n",
        "\n",
        "\n",
        "display(arreglo_5d)\n",
        "\n",
        "\n",
        "display(arreglo_5d.ndim)\n",
        "\n",
        "display(arreglo_5d.shape)"
      ],
      "execution_count": 27,
      "outputs": [
        {
          "output_type": "display_data",
          "data": {
            "text/plain": [
              "array([[[[[0., 0.],\n",
              "          [0., 0.]],\n",
              "\n",
              "         [[0., 0.],\n",
              "          [0., 0.]]],\n",
              "\n",
              "\n",
              "        [[[0., 0.],\n",
              "          [0., 0.]],\n",
              "\n",
              "         [[0., 0.],\n",
              "          [0., 0.]]]],\n",
              "\n",
              "\n",
              "\n",
              "       [[[[0., 0.],\n",
              "          [0., 0.]],\n",
              "\n",
              "         [[0., 0.],\n",
              "          [0., 0.]]],\n",
              "\n",
              "\n",
              "        [[[0., 0.],\n",
              "          [0., 0.]],\n",
              "\n",
              "         [[0., 0.],\n",
              "          [0., 0.]]]]])"
            ]
          },
          "metadata": {}
        },
        {
          "output_type": "display_data",
          "data": {
            "text/plain": [
              "5"
            ]
          },
          "metadata": {}
        },
        {
          "output_type": "display_data",
          "data": {
            "text/plain": [
              "(2, 2, 2, 2, 2)"
            ]
          },
          "metadata": {}
        }
      ]
    },
    {
      "cell_type": "code",
      "source": [
        "array_5d = np.random.rand(6,6,7,8)"
      ],
      "metadata": {
        "id": "BrL66vOAruYh"
      },
      "execution_count": 29,
      "outputs": []
    },
    {
      "cell_type": "code",
      "source": [
        "array_3d.dtype\n"
      ],
      "metadata": {
        "colab": {
          "base_uri": "https://localhost:8080/"
        },
        "id": "irAcayDCsW3t",
        "outputId": "d0ad0607-c212-4111-c92c-79457c5da6aa"
      },
      "execution_count": 35,
      "outputs": [
        {
          "output_type": "execute_result",
          "data": {
            "text/plain": [
              "dtype('float64')"
            ]
          },
          "metadata": {},
          "execution_count": 35
        }
      ]
    },
    {
      "cell_type": "code",
      "source": [
        "array_3d.dtype.name"
      ],
      "metadata": {
        "colab": {
          "base_uri": "https://localhost:8080/",
          "height": 35
        },
        "id": "j0EjgIQyswgz",
        "outputId": "9a2948fd-9e7b-43d7-8f17-d3748569bada"
      },
      "execution_count": 36,
      "outputs": [
        {
          "output_type": "execute_result",
          "data": {
            "text/plain": [
              "'float64'"
            ],
            "application/vnd.google.colaboratory.intrinsic+json": {
              "type": "string"
            }
          },
          "metadata": {},
          "execution_count": 36
        }
      ]
    },
    {
      "cell_type": "code",
      "source": [
        "#convertir de un tipoa  otro tipo de dato\n",
        "array_3d.astype(int)"
      ],
      "metadata": {
        "colab": {
          "base_uri": "https://localhost:8080/"
        },
        "id": "oR6llARmtJXb",
        "outputId": "7259430a-7840-47a6-d01f-645db219b121"
      },
      "execution_count": 37,
      "outputs": [
        {
          "output_type": "execute_result",
          "data": {
            "text/plain": [
              "array([[10, 20, 30],\n",
              "       [40, 50, 60],\n",
              "       [30, 70, 80]])"
            ]
          },
          "metadata": {},
          "execution_count": 37
        }
      ]
    },
    {
      "cell_type": "code",
      "source": [
        "array_3d.astype(int)"
      ],
      "metadata": {
        "colab": {
          "base_uri": "https://localhost:8080/"
        },
        "id": "d6dyfkq3tYlv",
        "outputId": "e61a07dc-7c75-463e-f1ff-3ff71afd4caf"
      },
      "execution_count": 42,
      "outputs": [
        {
          "output_type": "execute_result",
          "data": {
            "text/plain": [
              "array([[10, 20, 30],\n",
              "       [40, 50, 60],\n",
              "       [30, 70, 80]])"
            ]
          },
          "metadata": {},
          "execution_count": 42
        }
      ]
    },
    {
      "cell_type": "markdown",
      "source": [
        "OPERADORES MATEMATICOS"
      ],
      "metadata": {
        "id": "tMb4ypN2t7i9"
      }
    },
    {
      "cell_type": "code",
      "source": [
        "array_3d"
      ],
      "metadata": {
        "colab": {
          "base_uri": "https://localhost:8080/"
        },
        "id": "8k1RcVYbt-Pn",
        "outputId": "c88083cc-a7b1-4581-d1c8-5825aff8412d"
      },
      "execution_count": 43,
      "outputs": [
        {
          "output_type": "execute_result",
          "data": {
            "text/plain": [
              "array([[10., 20., 30.],\n",
              "       [40., 50., 60.],\n",
              "       [30., 70., 80.]])"
            ]
          },
          "metadata": {},
          "execution_count": 43
        }
      ]
    },
    {
      "cell_type": "code",
      "source": [
        "array3=np.random.random((4,4))\n",
        "array3"
      ],
      "metadata": {
        "colab": {
          "base_uri": "https://localhost:8080/"
        },
        "id": "69fy7jiMuSy6",
        "outputId": "b1f89b41-1d54-45c1-a996-8f6792a91619"
      },
      "execution_count": 51,
      "outputs": [
        {
          "output_type": "execute_result",
          "data": {
            "text/plain": [
              "array([[0.46848144, 0.81343551, 0.55998126, 0.84200354],\n",
              "       [0.86466266, 0.47659333, 0.63932388, 0.75179876],\n",
              "       [0.62470344, 0.43957152, 0.03317467, 0.438149  ],\n",
              "       [0.32883369, 0.43400341, 0.13171822, 0.98311087]])"
            ]
          },
          "metadata": {},
          "execution_count": 51
        }
      ]
    },
    {
      "cell_type": "code",
      "source": [
        "array2=np.random.random((4,4))\n",
        "array2"
      ],
      "metadata": {
        "colab": {
          "base_uri": "https://localhost:8080/"
        },
        "id": "LQDErs6iuh-K",
        "outputId": "2178e150-25a4-4e8d-f850-973d4902fb12"
      },
      "execution_count": 48,
      "outputs": [
        {
          "output_type": "execute_result",
          "data": {
            "text/plain": [
              "array([[0.86953582, 0.02916177, 0.63529831, 0.17814719],\n",
              "       [0.99945347, 0.64660698, 0.7967091 , 0.0067894 ],\n",
              "       [0.17510724, 0.03607855, 0.41212565, 0.58827614],\n",
              "       [0.72193852, 0.10897969, 0.07819695, 0.49604571]])"
            ]
          },
          "metadata": {},
          "execution_count": 48
        }
      ]
    },
    {
      "cell_type": "code",
      "source": [
        "array1=np.random.random(( 4,4))\n",
        "array1"
      ],
      "metadata": {
        "colab": {
          "base_uri": "https://localhost:8080/"
        },
        "id": "E-bFCXLWuwDb",
        "outputId": "22713d8c-cb1f-4333-c203-d935c41e5aea"
      },
      "execution_count": 50,
      "outputs": [
        {
          "output_type": "execute_result",
          "data": {
            "text/plain": [
              "array([[0.20376554, 0.0537797 , 0.23162957, 0.0998859 ],\n",
              "       [0.88381378, 0.56830077, 0.17808929, 0.22501121],\n",
              "       [0.20646036, 0.50949922, 0.86913172, 0.11849326],\n",
              "       [0.18831146, 0.96830078, 0.65961288, 0.77473432]])"
            ]
          },
          "metadata": {},
          "execution_count": 50
        }
      ]
    },
    {
      "cell_type": "code",
      "source": [
        "#sumas\n",
        "array4=array1+array2+array3\n",
        "array4"
      ],
      "metadata": {
        "colab": {
          "base_uri": "https://localhost:8080/"
        },
        "id": "XXnm2i5ru6gB",
        "outputId": "f524634f-8f50-4d89-9fc4-93ec1663ee84"
      },
      "execution_count": 52,
      "outputs": [
        {
          "output_type": "execute_result",
          "data": {
            "text/plain": [
              "array([[1.5417828 , 0.89637697, 1.42690914, 1.12003663],\n",
              "       [2.7479299 , 1.69150109, 1.61412227, 0.98359938],\n",
              "       [1.00627104, 0.98514928, 1.31443204, 1.14491841],\n",
              "       [1.23908367, 1.51128388, 0.86952805, 2.2538909 ]])"
            ]
          },
          "metadata": {},
          "execution_count": 52
        }
      ]
    },
    {
      "cell_type": "code",
      "source": [
        "#OTRA FORMA DE SUMA\n",
        "np.add(array1,array2,array3)"
      ],
      "metadata": {
        "colab": {
          "base_uri": "https://localhost:8080/"
        },
        "id": "zJMhqwXtvSxW",
        "outputId": "ba7f22b8-c0f6-4d94-9f14-35ee18a12482"
      },
      "execution_count": 53,
      "outputs": [
        {
          "output_type": "execute_result",
          "data": {
            "text/plain": [
              "array([[1.07330135, 0.08294146, 0.86692788, 0.27803309],\n",
              "       [1.88326724, 1.21490776, 0.97479839, 0.23180062],\n",
              "       [0.3815676 , 0.54557777, 1.28125737, 0.7067694 ],\n",
              "       [0.91024999, 1.07728047, 0.73780983, 1.27078003]])"
            ]
          },
          "metadata": {},
          "execution_count": 53
        }
      ]
    },
    {
      "cell_type": "code",
      "source": [
        "#OTRA FORMA   de suma\n",
        "array4=np.add(array1,array2,array3)\n",
        "array4"
      ],
      "metadata": {
        "colab": {
          "base_uri": "https://localhost:8080/"
        },
        "id": "Qq39RTKjvYim",
        "outputId": "4cae26b0-f511-4c32-d026-d73cba28ed38"
      },
      "execution_count": 54,
      "outputs": [
        {
          "output_type": "execute_result",
          "data": {
            "text/plain": [
              "array([[1.07330135, 0.08294146, 0.86692788, 0.27803309],\n",
              "       [1.88326724, 1.21490776, 0.97479839, 0.23180062],\n",
              "       [0.3815676 , 0.54557777, 1.28125737, 0.7067694 ],\n",
              "       [0.91024999, 1.07728047, 0.73780983, 1.27078003]])"
            ]
          },
          "metadata": {},
          "execution_count": 54
        }
      ]
    },
    {
      "cell_type": "code",
      "source": [
        "#multiplicacion\n",
        "array4=np.multiply(array1,array2,array3)\n",
        "array4"
      ],
      "metadata": {
        "colab": {
          "base_uri": "https://localhost:8080/"
        },
        "id": "ilQGISnSwNuB",
        "outputId": "68558729-e72c-41e2-df20-63cc6e8fd252"
      },
      "execution_count": 62,
      "outputs": [
        {
          "output_type": "execute_result",
          "data": {
            "text/plain": [
              "array([[0.17718143, 0.00156831, 0.14715387, 0.01779439],\n",
              "       [0.88333074, 0.36746725, 0.14188536, 0.00152769],\n",
              "       [0.0361527 , 0.01838199, 0.35819147, 0.06970676],\n",
              "       [0.1359493 , 0.10552512, 0.05157972, 0.38430364]])"
            ]
          },
          "metadata": {},
          "execution_count": 62
        }
      ]
    },
    {
      "cell_type": "code",
      "source": [
        "#resta versiona nterior\n",
        "array4=np.subtract(array1,array2,array3)\n",
        "array4"
      ],
      "metadata": {
        "colab": {
          "base_uri": "https://localhost:8080/"
        },
        "id": "NEXNjkvEwop2",
        "outputId": "b511f205-bfea-4d1c-e509-612ad1a7a5c3"
      },
      "execution_count": 63,
      "outputs": [
        {
          "output_type": "execute_result",
          "data": {
            "text/plain": [
              "array([[-0.66577028,  0.02461793, -0.40366873, -0.07826129],\n",
              "       [-0.11563969, -0.07830621, -0.6186198 ,  0.21822181],\n",
              "       [ 0.03135312,  0.47342067,  0.45700607, -0.46978287],\n",
              "       [-0.53362706,  0.85932109,  0.58141593,  0.27868861]])"
            ]
          },
          "metadata": {},
          "execution_count": 63
        }
      ]
    },
    {
      "cell_type": "code",
      "source": [
        "#dividir\n",
        "array4=np.divide(array1,array2,array3)\n",
        "array4"
      ],
      "metadata": {
        "colab": {
          "base_uri": "https://localhost:8080/"
        },
        "id": "r8_pn25DxN5a",
        "outputId": "78c0d90b-e389-4af0-a37c-30729df4e83e"
      },
      "execution_count": 64,
      "outputs": [
        {
          "output_type": "execute_result",
          "data": {
            "text/plain": [
              "array([[ 0.23433829,  1.84418513,  0.3645997 ,  0.56069311],\n",
              "       [ 0.88429707,  0.87889674,  0.22353114, 33.14152448],\n",
              "       [ 1.17905095, 14.12194248,  2.10889986,  0.20142456],\n",
              "       [ 0.26084141,  8.88514881,  8.43527622,  1.56182043]])"
            ]
          },
          "metadata": {},
          "execution_count": 64
        }
      ]
    },
    {
      "cell_type": "code",
      "source": [
        "#EXPONENTES\n",
        "np.exp(array1)\n"
      ],
      "metadata": {
        "colab": {
          "base_uri": "https://localhost:8080/"
        },
        "id": "7qF-MR6Oxfqe",
        "outputId": "d64b083f-eedf-440e-d0f3-c248ad2ab9c3"
      },
      "execution_count": 65,
      "outputs": [
        {
          "output_type": "execute_result",
          "data": {
            "text/plain": [
              "array([[1.22601067, 1.0552521 , 1.26065266, 1.10504483],\n",
              "       [2.42011189, 1.76526491, 1.19493201, 1.25233676],\n",
              "       [1.229319  , 1.66445746, 2.38483925, 1.12579929],\n",
              "       [1.20720946, 2.63346581, 1.93404349, 2.17001552]])"
            ]
          },
          "metadata": {},
          "execution_count": 65
        }
      ]
    },
    {
      "cell_type": "code",
      "source": [
        "#seno\n",
        "np.sin(array1)\n",
        "np.cos(array2)\n",
        "np.tan(array3)\n"
      ],
      "metadata": {
        "colab": {
          "base_uri": "https://localhost:8080/"
        },
        "id": "o_APlKTyyKMx",
        "outputId": "156e281c-81fa-4d43-8de6-8503bdb58883"
      },
      "execution_count": 66,
      "outputs": [
        {
          "output_type": "execute_result",
          "data": {
            "text/plain": [
              "array([[  0.23872417,  -3.56620739,   0.38166338,   0.6279155 ],\n",
              "       [  1.22030442,   1.20695009,   0.22733008,  -6.4081975 ],\n",
              "       [  2.42074092,  65.67867513,  -1.67544979,   0.20419357],\n",
              "       [  0.2669227 ,  -0.59892564,  -1.52202299, 111.40644341]])"
            ]
          },
          "metadata": {},
          "execution_count": 66
        }
      ]
    },
    {
      "cell_type": "code",
      "source": [
        "#logaritmo\n",
        "np.log(array1)\n",
        "np.log10(array2)\n",
        "np.log2(array3)"
      ],
      "metadata": {
        "colab": {
          "base_uri": "https://localhost:8080/"
        },
        "id": "zjiE2rhryY62",
        "outputId": "ff9066b1-b8ca-43d7-f8de-4ab41c422d5f"
      },
      "execution_count": 67,
      "outputs": [
        {
          "output_type": "execute_result",
          "data": {
            "text/plain": [
              "array([[-2.09333538,  0.88298349, -1.45561472, -0.83471675],\n",
              "       [-0.17739698, -0.18623442, -2.16145228,  5.05056806],\n",
              "       [ 0.23762607,  3.81986664,  1.07649059, -2.31168846],\n",
              "       [-1.93875516,  3.15139594,  3.07643531,  0.64322859]])"
            ]
          },
          "metadata": {},
          "execution_count": 67
        }
      ]
    },
    {
      "cell_type": "markdown",
      "source": [
        "COMPARACIONES ENTRE MATRICEZ"
      ],
      "metadata": {
        "id": "GbYy9_tuywtQ"
      }
    },
    {
      "cell_type": "code",
      "source": [
        "#==\n",
        "array1==array2"
      ],
      "metadata": {
        "colab": {
          "base_uri": "https://localhost:8080/"
        },
        "id": "pv29jHT-y0hc",
        "outputId": "d795cc76-36c5-41a5-9003-c81168602095"
      },
      "execution_count": 68,
      "outputs": [
        {
          "output_type": "execute_result",
          "data": {
            "text/plain": [
              "array([[False, False, False, False],\n",
              "       [False, False, False, False],\n",
              "       [False, False, False, False],\n",
              "       [False, False, False, False]])"
            ]
          },
          "metadata": {},
          "execution_count": 68
        }
      ]
    },
    {
      "cell_type": "code",
      "source": [
        "# el menor <\n",
        "array1"
      ],
      "metadata": {
        "colab": {
          "base_uri": "https://localhost:8080/"
        },
        "id": "g0S1XPvVzFd8",
        "outputId": "c289a899-133b-40f2-c16b-cc4dbeabae9d"
      },
      "execution_count": 69,
      "outputs": [
        {
          "output_type": "execute_result",
          "data": {
            "text/plain": [
              "array([[0.20376554, 0.0537797 , 0.23162957, 0.0998859 ],\n",
              "       [0.88381378, 0.56830077, 0.17808929, 0.22501121],\n",
              "       [0.20646036, 0.50949922, 0.86913172, 0.11849326],\n",
              "       [0.18831146, 0.96830078, 0.65961288, 0.77473432]])"
            ]
          },
          "metadata": {},
          "execution_count": 69
        }
      ]
    },
    {
      "cell_type": "code",
      "source": [
        "array1<0.5"
      ],
      "metadata": {
        "colab": {
          "base_uri": "https://localhost:8080/"
        },
        "id": "kW1diIVNzQtd",
        "outputId": "be80ff75-5ec8-4a5e-f28b-45a7614c577c"
      },
      "execution_count": 70,
      "outputs": [
        {
          "output_type": "execute_result",
          "data": {
            "text/plain": [
              "array([[ True,  True,  True,  True],\n",
              "       [False, False,  True,  True],\n",
              "       [ True, False, False,  True],\n",
              "       [ True, False, False, False]])"
            ]
          },
          "metadata": {},
          "execution_count": 70
        }
      ]
    },
    {
      "cell_type": "code",
      "source": [
        "#<= >=\n",
        "array2"
      ],
      "metadata": {
        "colab": {
          "base_uri": "https://localhost:8080/"
        },
        "id": "Eyp0Bvs_zhdP",
        "outputId": "ffcb4199-01ca-4bea-b0af-0d76fdab874b"
      },
      "execution_count": 71,
      "outputs": [
        {
          "output_type": "execute_result",
          "data": {
            "text/plain": [
              "array([[0.86953582, 0.02916177, 0.63529831, 0.17814719],\n",
              "       [0.99945347, 0.64660698, 0.7967091 , 0.0067894 ],\n",
              "       [0.17510724, 0.03607855, 0.41212565, 0.58827614],\n",
              "       [0.72193852, 0.10897969, 0.07819695, 0.49604571]])"
            ]
          },
          "metadata": {},
          "execution_count": 71
        }
      ]
    },
    {
      "cell_type": "code",
      "source": [
        "array2<=0.6"
      ],
      "metadata": {
        "colab": {
          "base_uri": "https://localhost:8080/"
        },
        "id": "x2cHjJkmznWS",
        "outputId": "e6fd4c7f-ec5f-4a33-a798-77a98171c51d"
      },
      "execution_count": 72,
      "outputs": [
        {
          "output_type": "execute_result",
          "data": {
            "text/plain": [
              "array([[False,  True, False,  True],\n",
              "       [False, False, False,  True],\n",
              "       [ True,  True,  True,  True],\n",
              "       [False,  True,  True,  True]])"
            ]
          },
          "metadata": {},
          "execution_count": 72
        }
      ]
    },
    {
      "cell_type": "markdown",
      "source": [
        "ESTADISTICAS Y FUNCIONES"
      ],
      "metadata": {
        "id": "LCxvRuzmz5_x"
      }
    },
    {
      "cell_type": "code",
      "source": [
        "array6=np.random.random((5,5))\n",
        "array6"
      ],
      "metadata": {
        "colab": {
          "base_uri": "https://localhost:8080/"
        },
        "id": "pdQu58mPz9Ep",
        "outputId": "a2b4f302-2c3b-439f-8727-e8ce92379328"
      },
      "execution_count": 73,
      "outputs": [
        {
          "output_type": "execute_result",
          "data": {
            "text/plain": [
              "array([[0.18914548, 0.70248859, 0.62627453, 0.23775301, 0.98718843],\n",
              "       [0.83524183, 0.63688732, 0.31977413, 0.60886848, 0.69935371],\n",
              "       [0.95259719, 0.80017913, 0.42365882, 0.10133047, 0.17506866],\n",
              "       [0.12018   , 0.9273231 , 0.41174651, 0.47078527, 0.58032534],\n",
              "       [0.55640705, 0.03163654, 0.60956497, 0.51460788, 0.23860103]])"
            ]
          },
          "metadata": {},
          "execution_count": 73
        }
      ]
    },
    {
      "cell_type": "code",
      "source": [
        "#suma de elementos\n",
        "sumatotal=np.sum(array6)\n",
        "sumatotal"
      ],
      "metadata": {
        "colab": {
          "base_uri": "https://localhost:8080/"
        },
        "id": "1MMpPeBT0ozo",
        "outputId": "02034351-f1df-4dda-ac7b-c719d7780587"
      },
      "execution_count": 74,
      "outputs": [
        {
          "output_type": "execute_result",
          "data": {
            "text/plain": [
              "np.float64(12.756987484769256)"
            ]
          },
          "metadata": {},
          "execution_count": 74
        }
      ]
    },
    {
      "cell_type": "code",
      "source": [
        "#valor minimo o maximo\n",
        "array6.min()\n",
        "array6.max()\n"
      ],
      "metadata": {
        "colab": {
          "base_uri": "https://localhost:8080/"
        },
        "id": "g59D7Zh-0-8r",
        "outputId": "bd7b3460-ce78-485a-9d29-0f8d90bacbf0"
      },
      "execution_count": 78,
      "outputs": [
        {
          "output_type": "execute_result",
          "data": {
            "text/plain": [
              "np.float64(0.9871884302647496)"
            ]
          },
          "metadata": {},
          "execution_count": 78
        }
      ]
    },
    {
      "cell_type": "code",
      "source": [
        "#maximo por fila o columna\n",
        "array6.max(axis=0)#fila\n",
        "array6.max(axis=1)#columna"
      ],
      "metadata": {
        "colab": {
          "base_uri": "https://localhost:8080/"
        },
        "id": "6H616yNO1RXc",
        "outputId": "667c7f81-1172-4d34-e545-871c6aa6771f"
      },
      "execution_count": 79,
      "outputs": [
        {
          "output_type": "execute_result",
          "data": {
            "text/plain": [
              "array([0.98718843, 0.83524183, 0.95259719, 0.9273231 , 0.60956497])"
            ]
          },
          "metadata": {},
          "execution_count": 79
        }
      ]
    },
    {
      "cell_type": "code",
      "source": [
        "#fila acomulada\n",
        "array6.cumsum(axis=1)"
      ],
      "metadata": {
        "colab": {
          "base_uri": "https://localhost:8080/"
        },
        "id": "IvSdqNGA1qqB",
        "outputId": "1c8f84f3-6b4b-4a7a-f167-10680a4c894b"
      },
      "execution_count": 80,
      "outputs": [
        {
          "output_type": "execute_result",
          "data": {
            "text/plain": [
              "array([[0.18914548, 0.89163407, 1.5179086 , 1.75566162, 2.74285005],\n",
              "       [0.83524183, 1.47212915, 1.79190328, 2.40077176, 3.10012547],\n",
              "       [0.95259719, 1.75277632, 2.17643514, 2.27776561, 2.45283427],\n",
              "       [0.12018   , 1.04750311, 1.45924962, 1.93003489, 2.51036023],\n",
              "       [0.55640705, 0.58804359, 1.19760856, 1.71221645, 1.95081748]])"
            ]
          },
          "metadata": {},
          "execution_count": 80
        }
      ]
    },
    {
      "cell_type": "code",
      "source": [
        "#media aritmetica\n",
        "np.mean(array6)"
      ],
      "metadata": {
        "colab": {
          "base_uri": "https://localhost:8080/"
        },
        "id": "_F4Wjdga13xT",
        "outputId": "7fd6ba2e-d20d-4339-ef60-5412d34b72f5"
      },
      "execution_count": 81,
      "outputs": [
        {
          "output_type": "execute_result",
          "data": {
            "text/plain": [
              "np.float64(0.5102794993907702)"
            ]
          },
          "metadata": {},
          "execution_count": 81
        }
      ]
    },
    {
      "cell_type": "code",
      "source": [
        "#mediana\n",
        "np.median(array6)"
      ],
      "metadata": {
        "colab": {
          "base_uri": "https://localhost:8080/"
        },
        "id": "PEiCOKVb2DBj",
        "outputId": "27426749-6cb0-46dc-c212-4eb0dce9249b"
      },
      "execution_count": 82,
      "outputs": [
        {
          "output_type": "execute_result",
          "data": {
            "text/plain": [
              "np.float64(0.5564070507519421)"
            ]
          },
          "metadata": {},
          "execution_count": 82
        }
      ]
    },
    {
      "cell_type": "code",
      "source": [
        "#DESVICION ESTANDAR\n",
        "np.std(array6)"
      ],
      "metadata": {
        "colab": {
          "base_uri": "https://localhost:8080/"
        },
        "id": "BtHkwqc22Kd0",
        "outputId": "9da8285a-e5b4-489b-978a-14fc8924231e"
      },
      "execution_count": 83,
      "outputs": [
        {
          "output_type": "execute_result",
          "data": {
            "text/plain": [
              "np.float64(0.27441691300899895)"
            ]
          },
          "metadata": {},
          "execution_count": 83
        }
      ]
    }
  ]
}